{
 "cells": [
  {
   "cell_type": "markdown",
   "id": "25fb4dd1-6e29-48a2-8214-a0c495458fb0",
   "metadata": {},
   "source": [
    "## 00.00 Preface"
   ]
  },
  {
   "cell_type": "code",
   "execution_count": 1,
   "id": "c0cac953-6dd1-4ca3-8620-d4b72dfed0a1",
   "metadata": {},
   "outputs": [],
   "source": [
    "##00.00\n",
    "#No hay codigo"
   ]
  },
  {
   "cell_type": "markdown",
   "id": "6e0abe9e-8a61-42fe-b420-4fd787024efa",
   "metadata": {},
   "source": [
    "## 01.00 IPython: Beyond Normal Python"
   ]
  },
  {
   "cell_type": "code",
   "execution_count": 2,
   "id": "3911fc42-ea8d-481b-b23c-fe52b1f5c7e5",
   "metadata": {
    "scrolled": true
   },
   "outputs": [],
   "source": [
    "##01.00\n",
    "#jupyter notebook"
   ]
  },
  {
   "cell_type": "markdown",
   "id": "0f07f6af-a0e8-4707-970c-39538df58776",
   "metadata": {},
   "source": [
    "## 01.00 Help and Documentation in IPython"
   ]
  },
  {
   "cell_type": "code",
   "execution_count": 3,
   "id": "d9bd0d28-38ad-43d8-bfee-128ddb4c4c11",
   "metadata": {},
   "outputs": [
    {
     "name": "stdout",
     "output_type": "stream",
     "text": [
      "Help on built-in function len in module builtins:\n",
      "\n",
      "len(obj, /)\n",
      "    Return the number of items in a container.\n",
      "\n"
     ]
    },
    {
     "data": {
      "text/plain": [
       "str.find\n",
       "str.rfind"
      ]
     },
     "metadata": {},
     "output_type": "display_data"
    }
   ],
   "source": [
    "##01.01\n",
    "help(len)\n",
    "len?\n",
    "L = [1, 2, 3]\n",
    "L.insert?\n",
    "L?\n",
    "def square(a):\n",
    "    \"\"\"Return the square of a.\"\"\"\n",
    "    return a ** 2\n",
    "square?\n",
    "len??\n",
    "#L.<TAB>\n",
    "#L.c<TAB>\n",
    "#L.co<TAB>\n",
    "#L.cou<TAB>\n",
    "#L._<TAB>\n",
    "#from itertools import co<TAB>\n",
    "#import <TAB>\n",
    "*Warning?\n",
    "str.*find*?"
   ]
  },
  {
   "cell_type": "markdown",
   "id": "f68bc42f-d000-4254-a3ab-1c0ed28783ee",
   "metadata": {},
   "source": [
    "## 01.02 Keyboard Shortcuts in the IPython Shell"
   ]
  },
  {
   "cell_type": "code",
   "execution_count": 4,
   "id": "6e66c258-4366-40cd-b24b-fdb11de6e97b",
   "metadata": {},
   "outputs": [
    {
     "data": {
      "text/plain": [
       "4"
      ]
     },
     "execution_count": 4,
     "metadata": {},
     "output_type": "execute_result"
    }
   ],
   "source": [
    "##01.02\n",
    "#(reverse-i-search)`': \n",
    "#(reverse-i-search)`sqa': square??\n",
    "#(reverse-i-search)`sqa': def square(a):\n",
    "#    \"\"\"Return the square of a\"\"\"\n",
    "#    return a ** 2\n",
    "def square(a):\n",
    "    \"\"\"Return the square of a\"\"\"\n",
    "    return a ** 2\n",
    "square(2)"
   ]
  },
  {
   "cell_type": "markdown",
   "id": "545efe56-2128-4592-9609-8c93eb455056",
   "metadata": {},
   "source": [
    "## 01.03 IPython Magic Commands"
   ]
  },
  {
   "cell_type": "code",
   "execution_count": 5,
   "id": "a9a76c9a-9180-444c-8dad-24317323ce84",
   "metadata": {},
   "outputs": [
    {
     "data": {
      "text/plain": [
       "10"
      ]
     },
     "execution_count": 5,
     "metadata": {},
     "output_type": "execute_result"
    }
   ],
   "source": [
    "##01.03\n",
    "def donothing(x):\n",
    "    return x\n",
    "#def donothing(x):\n",
    "#        return x \n",
    "donothing(10)\n",
    "\n",
    "#%paste\n",
    "#%cpaste\n"
   ]
  },
  {
   "cell_type": "markdown",
   "id": "df1a017c-ede8-446a-9fd7-99e3527358d8",
   "metadata": {},
   "source": [
    "## 01.04 Input and Output History"
   ]
  },
  {
   "cell_type": "code",
   "execution_count": 6,
   "id": "812ae13a-915c-4f74-9e9d-1d2c79b065da",
   "metadata": {},
   "outputs": [
    {
     "name": "stdout",
     "output_type": "stream",
     "text": [
      "['', '##00.00\\n#No hay codigo', '##01.00\\n#jupyter notebook', '##01.01\\nhelp(len)\\nget_ipython().run_line_magic(\\'pinfo\\', \\'len\\')\\nL = [1, 2, 3]\\nget_ipython().run_line_magic(\\'pinfo\\', \\'L.insert\\')\\nget_ipython().run_line_magic(\\'pinfo\\', \\'L\\')\\ndef square(a):\\n    \"\"\"Return the square of a.\"\"\"\\n    return a ** 2\\nget_ipython().run_line_magic(\\'pinfo\\', \\'square\\')\\nget_ipython().run_line_magic(\\'pinfo2\\', \\'len\\')\\n#L.<TAB>\\n#L.c<TAB>\\n#L.co<TAB>\\n#L.cou<TAB>\\n#L._<TAB>\\n#from itertools import co<TAB>\\n#import <TAB>\\nget_ipython().run_line_magic(\\'psearch\\', \\'*Warning\\')\\nget_ipython().run_line_magic(\\'psearch\\', \\'str.*find*\\')', '##01.02\\n#(reverse-i-search)`\\': \\n#(reverse-i-search)`sqa\\': square??\\n#(reverse-i-search)`sqa\\': def square(a):\\n#    \"\"\"Return the square of a\"\"\"\\n#    return a ** 2\\ndef square(a):\\n    \"\"\"Return the square of a\"\"\"\\n    return a ** 2\\nsquare(2)', '##01.03\\ndef donothing(x):\\n    return x\\n#def donothing(x):\\n#        return x \\ndonothing(10)\\n\\n#%paste\\n#%cpaste', \"##01.04\\nimport math\\nmath.sin(2)\\nmath.cos(2)\\nprint(In)\\nOut\\nprint(In[1])\\n#print(Out[2])\\n#Out[2] ** 2 + Out[3] ** 2\\nprint(_)\\nprint(__)\\nprint(___)\\nmath.sin(2) + math.cos(2);\\n14 in Out\\nget_ipython().run_line_magic('history', '-n 1-4')\"]\n",
      "##00.00\n",
      "#No hay codigo\n",
      "10\n",
      "4\n",
      "\n",
      "   1:\n",
      "##00.00\n",
      "#No hay codigo\n",
      "   2:\n",
      "##01.00\n",
      "#jupyter notebook\n",
      "   3:\n",
      "##01.01\n",
      "help(len)\n",
      "len?\n",
      "L = [1, 2, 3]\n",
      "L.insert?\n",
      "L?\n",
      "def square(a):\n",
      "    \"\"\"Return the square of a.\"\"\"\n",
      "    return a ** 2\n",
      "square?\n",
      "len??\n",
      "#L.<TAB>\n",
      "#L.c<TAB>\n",
      "#L.co<TAB>\n",
      "#L.cou<TAB>\n",
      "#L._<TAB>\n",
      "#from itertools import co<TAB>\n",
      "#import <TAB>\n",
      "*Warning?\n",
      "str.*find*?\n",
      "   4:\n",
      "##01.02\n",
      "#(reverse-i-search)`': \n",
      "#(reverse-i-search)`sqa': square??\n",
      "#(reverse-i-search)`sqa': def square(a):\n",
      "#    \"\"\"Return the square of a\"\"\"\n",
      "#    return a ** 2\n",
      "def square(a):\n",
      "    \"\"\"Return the square of a\"\"\"\n",
      "    return a ** 2\n",
      "square(2)\n"
     ]
    }
   ],
   "source": [
    "##01.04\n",
    "import math\n",
    "math.sin(2)\n",
    "math.cos(2)\n",
    "print(In)\n",
    "Out\n",
    "print(In[1])\n",
    "#print(Out[2])\n",
    "#Out[2] ** 2 + Out[3] ** 2\n",
    "print(_)\n",
    "print(__)\n",
    "print(___)\n",
    "math.sin(2) + math.cos(2);\n",
    "14 in Out\n",
    "%history -n 1-4"
   ]
  },
  {
   "cell_type": "markdown",
   "id": "d14b02a0-4861-4812-bf7b-f63393c03101",
   "metadata": {},
   "source": [
    "## 01.05 Computation on Arrays: Broadcasting"
   ]
  },
  {
   "cell_type": "code",
   "execution_count": 7,
   "id": "40ff190d-7275-40ce-9c3d-c5a1d27780d4",
   "metadata": {},
   "outputs": [
    {
     "name": "stdout",
     "output_type": "stream",
     "text": [
      "libro_01.ipynb\n",
      "printing from the shell\n",
      "['libro_01.ipynb']\n",
      "hello from Python\n"
     ]
    }
   ],
   "source": [
    "##01.05\n",
    "# Shell Commands\n",
    "#osx:~ $ echo \"hello world\"             # echo is like Python's print function\n",
    "#hello world\n",
    "\n",
    "#osx:~ $ pwd                            # pwd = print working directory\n",
    "#/home/jake                             # this is the \"path\" that we're sitting in\n",
    "\n",
    "#osx:~ $ ls                             # ls = list working directory contents\n",
    "#notebooks  projects \n",
    "\n",
    "#osx:~ $ cd projects/                   # cd = change directory\n",
    "\n",
    "#osx:projects $ pwd\n",
    "#/home/jake/projects\n",
    "\n",
    "#osx:projects $ ls\n",
    "#datasci_book   mpld3   myproject.txt\n",
    "\n",
    "#osx:projects $ mkdir myproject          # mkdir = make new directory\n",
    "\n",
    "#osx:projects $ cd myproject/\n",
    "\n",
    "#osx:myproject $ mv ../myproject.txt ./  # mv = move file. Here we're moving the\n",
    "                                        # file myproject.txt from one directory\n",
    "                                        # up (../) to the current directory (./)\n",
    "#osx:myproject $ ls\n",
    "#myproject.txt\n",
    "\n",
    "#Python\n",
    "!ls\n",
    "#!pwd\n",
    "!echo \"printing from the shell\"\n",
    "contents = !ls\n",
    "print(contents)\n",
    "directory = !pwd\n",
    "#print(directory)\n",
    "#type(directory)\n",
    "message = \"hello from Python\"\n",
    "!echo {message}\n",
    "#pwd\n",
    "#/!cd ..\n",
    "#!pwd\n",
    "#%cd ..\n",
    "#/cd myproject\n",
    "#Besides %cd, other available shell-like magic functions are %cat, %cp, %env, %ls, %man, %mkdir, %more, %mv, %pwd, %rm, and %rmdir, any of which can be used without the % sign if automagic is on. This makes it so that you can almost treat the IPython prompt as if it's a normal shell:\n",
    "#mkdir tmp\n",
    "#ls\n",
    "#cp myproject.txt tmp/\n",
    "#ls tmp\n",
    "#mrm -r tmp"
   ]
  },
  {
   "cell_type": "markdown",
   "id": "93142d23-1361-49c6-987e-f01bce74d4ab",
   "metadata": {},
   "source": [
    "## 01.06 Errors and Debugging"
   ]
  },
  {
   "cell_type": "code",
   "execution_count": 8,
   "id": "74338a0b-738b-49db-9a9f-3b2f34a1dfd4",
   "metadata": {},
   "outputs": [
    {
     "ename": "ZeroDivisionError",
     "evalue": "division by zero",
     "output_type": "error",
     "traceback": [
      "\u001b[0;31m---------------------------------------------------------------------------\u001b[0m",
      "\u001b[0;31mZeroDivisionError\u001b[0m                         Traceback (most recent call last)",
      "Cell \u001b[0;32mIn[8], line 10\u001b[0m\n\u001b[1;32m      7\u001b[0m     b \u001b[38;5;241m=\u001b[39m x \u001b[38;5;241m-\u001b[39m \u001b[38;5;241m1\u001b[39m\n\u001b[1;32m      8\u001b[0m     \u001b[38;5;28;01mreturn\u001b[39;00m func1(a, b)\n\u001b[0;32m---> 10\u001b[0m func2(\u001b[38;5;241m1\u001b[39m)\n\u001b[1;32m     12\u001b[0m get_ipython()\u001b[38;5;241m.\u001b[39mrun_line_magic(\u001b[38;5;124m'\u001b[39m\u001b[38;5;124mxmode\u001b[39m\u001b[38;5;124m'\u001b[39m, \u001b[38;5;124m'\u001b[39m\u001b[38;5;124mPlain\u001b[39m\u001b[38;5;124m'\u001b[39m)\n\u001b[1;32m     14\u001b[0m func2(\u001b[38;5;241m1\u001b[39m)\n",
      "Cell \u001b[0;32mIn[8], line 8\u001b[0m, in \u001b[0;36mfunc2\u001b[0;34m(x)\u001b[0m\n\u001b[1;32m      6\u001b[0m a \u001b[38;5;241m=\u001b[39m x\n\u001b[1;32m      7\u001b[0m b \u001b[38;5;241m=\u001b[39m x \u001b[38;5;241m-\u001b[39m \u001b[38;5;241m1\u001b[39m\n\u001b[0;32m----> 8\u001b[0m \u001b[38;5;28;01mreturn\u001b[39;00m func1(a, b)\n",
      "Cell \u001b[0;32mIn[8], line 3\u001b[0m, in \u001b[0;36mfunc1\u001b[0;34m(a, b)\u001b[0m\n\u001b[1;32m      2\u001b[0m \u001b[38;5;28;01mdef\u001b[39;00m \u001b[38;5;21mfunc1\u001b[39m(a, b):\n\u001b[0;32m----> 3\u001b[0m     \u001b[38;5;28;01mreturn\u001b[39;00m a \u001b[38;5;241m/\u001b[39m b\n",
      "\u001b[0;31mZeroDivisionError\u001b[0m: division by zero"
     ]
    }
   ],
   "source": [
    "##01.06\n",
    "def func1(a, b):\n",
    "    return a / b\n",
    "\n",
    "def func2(x):\n",
    "    a = x\n",
    "    b = x - 1\n",
    "    return func1(a, b)\n",
    "\n",
    "func2(1)\n",
    "\n",
    "%xmode Plain\n",
    "\n",
    "func2(1)\n",
    "\n",
    "%xmode Verbose\n",
    "\n",
    "func2(1)\n",
    "\n",
    "%debug\n",
    "\n",
    "%debug\n",
    "\n",
    "%xmode Plain\n",
    "%pdb on\n",
    "func2(1)"
   ]
  },
  {
   "cell_type": "markdown",
   "id": "04d963bd-ba50-4c71-9201-294359435b6c",
   "metadata": {},
   "source": [
    "## 01.07 Profiling and Timing Code"
   ]
  },
  {
   "cell_type": "code",
   "execution_count": 9,
   "id": "1c85586f-c7a8-46d6-9282-be4838d4f81f",
   "metadata": {},
   "outputs": [
    {
     "name": "stdout",
     "output_type": "stream",
     "text": [
      "263 ns ± 0.917 ns per loop (mean ± std. dev. of 7 runs, 1,000,000 loops each)\n"
     ]
    },
    {
     "name": "stderr",
     "output_type": "stream",
     "text": [
      "UsageError: Line magic function `%%timeit` not found.\n"
     ]
    }
   ],
   "source": [
    "##01.07\n",
    "%timeit sum(range(100))\n",
    "\n",
    "%%timeit\n",
    "total = 0\n",
    "for i in range(1000):\n",
    "    for j in range(1000):\n",
    "        total += i * (-1) ** j\n",
    "\n",
    "import random\n",
    "L = [random.random() for i in range(100000)]\n",
    "%timeit L.sort()\n",
    "\n",
    "import random\n",
    "L = [random.random() for i in range(100000)]\n",
    "print(\"sorting an unsorted list:\")\n",
    "%time L.sort()\n",
    "\n",
    "print(\"sorting an already sorted list:\")\n",
    "%time L.sort()\n",
    "\n",
    "%%time\n",
    "total = 0\n",
    "for i in range(1000):\n",
    "    for j in range(1000):\n",
    "        total += i * (-1) ** j\n",
    "\n",
    "def sum_of_lists(N):\n",
    "    total = 0\n",
    "    for i in range(5):\n",
    "        L = [j ^ (j >> i) for j in range(N)]\n",
    "        total += sum(L)\n",
    "    return total\n",
    "\n",
    "%prun sum_of_lists(1000000)\n",
    "\n",
    "%load_ext line_profiler\n",
    "\n",
    "%lprun -f sum_of_lists sum_of_lists(5000)\n",
    "\n",
    "%load_ext memory_profiler\n",
    "\n",
    "%memit sum_of_lists(1000000)\n",
    "\n",
    "%%file mprun_demo.py\n",
    "def sum_of_lists(N):\n",
    "    total = 0\n",
    "    for i in range(5):\n",
    "        L = [j ^ (j >> i) for j in range(N)]\n",
    "        total += sum(L)\n",
    "        del L # remove reference to L\n",
    "    return total\n",
    "\n",
    "from mprun_demo import sum_of_lists\n",
    "%mprun -f sum_of_lists sum_of_lists(1000000)"
   ]
  },
  {
   "cell_type": "markdown",
   "id": "fa8fa424-7aaf-44c6-b233-a0090e76631d",
   "metadata": {},
   "source": [
    "## 01.08 More IPython Resources"
   ]
  },
  {
   "cell_type": "code",
   "execution_count": 10,
   "id": "8614b24d-8646-4067-86ee-1b8c64ae5b0b",
   "metadata": {},
   "outputs": [],
   "source": [
    "##01.08\n",
    "#No hay codigo"
   ]
  }
 ],
 "metadata": {
  "kernelspec": {
   "display_name": "Python 3 (ipykernel)",
   "language": "python",
   "name": "python3"
  },
  "language_info": {
   "codemirror_mode": {
    "name": "ipython",
    "version": 3
   },
   "file_extension": ".py",
   "mimetype": "text/x-python",
   "name": "python",
   "nbconvert_exporter": "python",
   "pygments_lexer": "ipython3",
   "version": "3.12.4"
  }
 },
 "nbformat": 4,
 "nbformat_minor": 5
}
