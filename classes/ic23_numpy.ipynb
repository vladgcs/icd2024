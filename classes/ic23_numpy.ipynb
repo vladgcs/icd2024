{
 "cells": [
  {
   "cell_type": "markdown",
   "id": "545e3632-926b-45dd-ad33-38357c1eb83e",
   "metadata": {},
   "source": [
    "# Numpy Cheat Sheet"
   ]
  },
  {
   "cell_type": "markdown",
   "id": "ed8fdf9c-e641-48ac-9768-f55679dee8b1",
   "metadata": {},
   "source": [
    "## Numpy\n",
    "\n",
    "\n",
    "The NumPy library is the core library for scientific computing in Python. It provides a high-performance multidimensional array object, and tools for working with these arrays."
   ]
  },
  {
   "cell_type": "code",
   "execution_count": 1,
   "id": "c73bb9d8-2fc6-427b-8298-331551b61cf6",
   "metadata": {},
   "outputs": [],
   "source": [
    "# Import convention\n",
    "import numpy as np"
   ]
  },
  {
   "cell_type": "markdown",
   "id": "8e07494b-2bf7-491b-9b46-9b7ae21ccf2d",
   "metadata": {},
   "source": [
    "## Creating Arrays"
   ]
  },
  {
   "cell_type": "code",
   "execution_count": 2,
   "id": "a906bad1-269d-4737-95b9-c4c266264776",
   "metadata": {},
   "outputs": [],
   "source": [
    "a = np.array([1,2,3])\n",
    "b = np.array([(1.5,2,3), (4,5,6)], dtype = float)\n",
    "c = np.array([[(1.5,2,3), (4,5,6)], [(3,2,1),(4,5,6)]], dtype = float)"
   ]
  },
  {
   "cell_type": "markdown",
   "id": "80da49ae-eb13-4c7a-aed6-8ccf885a6a77",
   "metadata": {},
   "source": [
    "### Initial Placeholders"
   ]
  },
  {
   "cell_type": "code",
   "execution_count": 3,
   "id": "958039a9-34b8-4514-897a-58466afa964c",
   "metadata": {},
   "outputs": [
    {
     "data": {
      "text/plain": [
       "array([[1.39069238e-309, 1.39069238e-309],\n",
       "       [1.39069238e-309, 1.39069238e-309],\n",
       "       [1.39069238e-309, 1.39069238e-309]])"
      ]
     },
     "execution_count": 3,
     "metadata": {},
     "output_type": "execute_result"
    }
   ],
   "source": [
    "np.zeros((3,4)) #Create an array of zeros\n",
    "np.ones((2,3,4),dtype=np.int16) #Create an array of ones\n",
    "d = np.arange(10,25,5) #Create an array of evenly spaced values (step value)\n",
    "np.linspace(0,2,9) #Create an array of evenly spaced values (number of samples)\n",
    "e = np.full((2,2),7) #Create a constant array\n",
    "f = np.eye(2) #Create a 2X2 identity matrix\n",
    "np.random.random((2,2)) #Create an array with random values\n",
    "np.empty((3,2)) #Create an empty array"
   ]
  },
  {
   "cell_type": "markdown",
   "id": "ba8aecb7-ba0d-46fa-9374-89cb5d630761",
   "metadata": {},
   "source": [
    "## I/O"
   ]
  },
  {
   "cell_type": "markdown",
   "id": "187c106f-49cf-43db-9e51-d3725a2d324f",
   "metadata": {},
   "source": [
    "### Saving & Loading On Disk"
   ]
  },
  {
   "cell_type": "code",
   "execution_count": 4,
   "id": "449faaf9-1100-44ae-b32a-9914b7f5121a",
   "metadata": {},
   "outputs": [
    {
     "data": {
      "text/plain": [
       "array([1, 2, 3])"
      ]
     },
     "execution_count": 4,
     "metadata": {},
     "output_type": "execute_result"
    }
   ],
   "source": [
    "np.save('my_array', a)\n",
    "np.savez('array.npz', a, b)\n",
    "np.load('my_array.npy')"
   ]
  },
  {
   "cell_type": "markdown",
   "id": "ea430760-963e-4f4a-b65c-8c5c15a369d0",
   "metadata": {},
   "source": [
    "### Saving & Loading Text Files"
   ]
  },
  {
   "cell_type": "code",
   "execution_count": 5,
   "id": "078d78cf-6dc7-4bff-b85d-6473710b9df4",
   "metadata": {},
   "outputs": [
    {
     "name": "stderr",
     "output_type": "stream",
     "text": [
      "/var/folders/fw/lfwqgrwx72v8gqhx3vm2nv780000gn/T/ipykernel_809/1365320612.py:1: UserWarning: loadtxt: input contained no data: \"myfile.txt\"\n",
      "  np.loadtxt(\"myfile.txt\")\n",
      "/var/folders/fw/lfwqgrwx72v8gqhx3vm2nv780000gn/T/ipykernel_809/1365320612.py:2: UserWarning: genfromtxt: Empty input file: \"my_file.csv\"\n",
      "  np.genfromtxt(\"my_file.csv\", delimiter=',')\n"
     ]
    }
   ],
   "source": [
    "\n",
    "np.loadtxt(\"myfile.txt\")\n",
    "np.genfromtxt(\"my_file.csv\", delimiter=',')\n",
    "np.savetxt(\"myarray.txt\", a, delimiter=\" \")"
   ]
  },
  {
   "cell_type": "markdown",
   "id": "b2004a72-08d8-455e-804b-e6840265675d",
   "metadata": {},
   "source": [
    "## Asking For Help"
   ]
  },
  {
   "cell_type": "code",
   "execution_count": 6,
   "id": "0d94f46c-19aa-40f1-8f24-6ef550a2b71a",
   "metadata": {},
   "outputs": [
    {
     "name": "stdout",
     "output_type": "stream",
     "text": [
      "Data-type of the array's elements.\n",
      "\n",
      ".. warning::\n",
      "\n",
      "    Setting ``arr.dtype`` is discouraged and may be deprecated in the\n",
      "    future.  Setting will replace the ``dtype`` without modifying the\n",
      "    memory (see also `ndarray.view` and `ndarray.astype`).\n",
      "\n",
      "Parameters\n",
      "----------\n",
      "None\n",
      "\n",
      "Returns\n",
      "-------\n",
      "d : numpy dtype object\n",
      "\n",
      "See Also\n",
      "--------\n",
      "ndarray.astype : Cast the values contained in the array to a new data-type.\n",
      "ndarray.view : Create a view of the same data but a different data-type.\n",
      "numpy.dtype\n",
      "\n",
      "Examples\n",
      "--------\n",
      ">>> x\n",
      "array([[0, 1],\n",
      "       [2, 3]])\n",
      ">>> x.dtype\n",
      "dtype('int32')\n",
      ">>> type(x.dtype)\n",
      "<type 'numpy.dtype'>\n"
     ]
    }
   ],
   "source": [
    "np.info(np.ndarray.dtype)"
   ]
  },
  {
   "cell_type": "markdown",
   "id": "2e75326e-63ea-4b41-ad1f-737c2da9e0d9",
   "metadata": {},
   "source": [
    "## Inspecting Your Array"
   ]
  },
  {
   "cell_type": "code",
   "execution_count": 7,
   "id": "10a99e50-0487-4bbf-b502-c510ddcc2ad7",
   "metadata": {},
   "outputs": [
    {
     "data": {
      "text/plain": [
       "array([[1, 2, 3],\n",
       "       [4, 5, 6]])"
      ]
     },
     "execution_count": 7,
     "metadata": {},
     "output_type": "execute_result"
    }
   ],
   "source": [
    "a.shape\n",
    "len(a)\n",
    "b.ndim #Number of array dimensions\n",
    "e.size #Number of array elements\n",
    "b.dtype #Data type of array elements\n",
    "b.dtype.name #Name of data type\n",
    "b.astype(int) #Convert an array to a different type\n"
   ]
  },
  {
   "cell_type": "markdown",
   "id": "e10405d9-e67a-4c65-b9fd-c31e7c1aed76",
   "metadata": {},
   "source": [
    "## Data Types"
   ]
  },
  {
   "cell_type": "code",
   "execution_count": 8,
   "id": "1ddcecc0-b2f4-4266-ae37-9b764438b297",
   "metadata": {},
   "outputs": [
    {
     "data": {
      "text/plain": [
       "numpy.str_"
      ]
     },
     "execution_count": 8,
     "metadata": {},
     "output_type": "execute_result"
    }
   ],
   "source": [
    "np.int64 #Signed 64-bit integer types\n",
    "np.float32 #Standard double-precision floating point\n",
    "#metodos depreciados:\n",
    "#np.complex #Complex numbers represented by 128 floats\n",
    "#np.bool #Boolean type storing TRUE and FALSE values Numpy\n",
    "#np.object #Python object type\n",
    "np.string_ #Fixed-length string type\n",
    "np.unicode_ #Fixed-length unicode type\n"
   ]
  },
  {
   "cell_type": "markdown",
   "id": "cd5f4df5-1848-4a7c-b192-4e4475d7e615",
   "metadata": {},
   "source": [
    "## Array Mathematics#"
   ]
  },
  {
   "cell_type": "markdown",
   "id": "b5b15c9d-fa71-4e78-89cd-274f7f95c6c9",
   "metadata": {},
   "source": [
    "### Arithmetic Operations"
   ]
  },
  {
   "cell_type": "code",
   "execution_count": 9,
   "id": "96687baf-025e-474d-abdf-d1e0b66123be",
   "metadata": {},
   "outputs": [
    {
     "data": {
      "text/plain": [
       "array([[7., 7.],\n",
       "       [7., 7.]])"
      ]
     },
     "execution_count": 9,
     "metadata": {},
     "output_type": "execute_result"
    }
   ],
   "source": [
    "g = a - b #Subtraction\n",
    "np.subtract(a,b) #Subtraction\n",
    "b + a #Addition\n",
    "np.add(b,a) #Addition\n",
    "a / b #Division\n",
    "np.divide(a,b) #Division\n",
    "a * b #Multiplication\n",
    "np.multiply(a,b) #Multiplication\n",
    "np.exp(b) #Exponentiation\n",
    "np.sqrt(b) #Square root\n",
    "np.sin(a) #Print sines of an array\n",
    "np.cos(b) #Element-wise cosine\n",
    "np.log(a) #Element-wise natural logarithm\n",
    "e.dot(f) #Dot product"
   ]
  },
  {
   "cell_type": "markdown",
   "id": "35d4e84e-c82d-4ea0-8f37-90fc13a22ef1",
   "metadata": {},
   "source": [
    "### Comparison"
   ]
  },
  {
   "cell_type": "code",
   "execution_count": 10,
   "id": "d061a39b-436d-4e51-a50c-f87d95bd32e3",
   "metadata": {},
   "outputs": [
    {
     "data": {
      "text/plain": [
       "False"
      ]
     },
     "execution_count": 10,
     "metadata": {},
     "output_type": "execute_result"
    }
   ],
   "source": [
    "a == b #Element-wise comparison\n",
    "a < 2 #Element-wise comparison\n",
    "np.array_equal(a, b) #Array-wise comparison"
   ]
  },
  {
   "cell_type": "markdown",
   "id": "9b70a5bc-243b-461c-8133-61fbad93c86d",
   "metadata": {},
   "source": [
    "### Aggregate Functions"
   ]
  },
  {
   "cell_type": "code",
   "execution_count": 11,
   "id": "9a8a1d1c-2906-47f0-8f8b-41c8d153f249",
   "metadata": {},
   "outputs": [
    {
     "data": {
      "text/plain": [
       "1.5920810978785667"
      ]
     },
     "execution_count": 11,
     "metadata": {},
     "output_type": "execute_result"
    }
   ],
   "source": [
    "a.sum() #Array-wise sum\n",
    "a.min() #Array-wise minimum value\n",
    "b.max(axis=0) #Maximum value of an array row\n",
    "b.cumsum(axis=1) #Cumulative sum of the elements\n",
    "a.mean() #Mean\n",
    "np.median(b) #Median\n",
    "np.corrcoef(a) #Correlation coefficient\n",
    "np.std(b) #Standard deviation"
   ]
  },
  {
   "cell_type": "markdown",
   "id": "430cc62d-9bf3-4fc8-9ff8-f29a1a969fdc",
   "metadata": {},
   "source": [
    "## Copying Arrays"
   ]
  },
  {
   "cell_type": "code",
   "execution_count": 12,
   "id": "657a8069-df8d-4619-8360-484eaf0527e8",
   "metadata": {},
   "outputs": [],
   "source": [
    "h = a.view() #Create a view of the array with the same data\n",
    "np.copy(a) #Create a copy of the array\n",
    "h = a.copy() #Create a deep copy of the array"
   ]
  },
  {
   "cell_type": "markdown",
   "id": "faf2b285-9850-41c8-b59c-37fc2b2d325a",
   "metadata": {},
   "source": [
    "## Sorting Arrays"
   ]
  },
  {
   "cell_type": "code",
   "execution_count": 13,
   "id": "47edebd0-6bf7-45dc-ad31-1d8848ba36d6",
   "metadata": {},
   "outputs": [],
   "source": [
    "a.sort() #Sort an array\n",
    "c.sort(axis=0) #Sort the elements of an array's axis"
   ]
  },
  {
   "cell_type": "markdown",
   "id": "6b09916e-0072-414d-88dc-3b4c90b28fac",
   "metadata": {},
   "source": [
    "## Subsetting, Slicing, Indexing"
   ]
  },
  {
   "cell_type": "code",
   "execution_count": 14,
   "id": "de6d8791-d992-4a74-8d78-7f312fc4e9b6",
   "metadata": {},
   "outputs": [
    {
     "data": {
      "text/plain": [
       "array([[4. , 5. , 6. , 4. ],\n",
       "       [1.5, 2. , 3. , 1.5],\n",
       "       [4. , 5. , 6. , 4. ],\n",
       "       [1.5, 2. , 3. , 1.5]])"
      ]
     },
     "execution_count": 14,
     "metadata": {},
     "output_type": "execute_result"
    }
   ],
   "source": [
    "#Subsetting\n",
    "a[0:2] #Select the element at the 2nd index\n",
    "b[1,2] #Select the element at row 1 column 2 (equivalent to b[1][2])\n",
    "#Slicing\n",
    "a[0:2] #Select items at index 0 and 1\n",
    "b[0:2,1] #Select items at rows 0 and 1 in column 1\n",
    "b[:1] #Select all items at row 0 (equivalent to b[0:1, :])\n",
    "c[1,...] #Same as [1,:,:]\n",
    "a[ : :-1] #Reversed array a array([3, 2, 1])\n",
    "#Boolean Indexing\n",
    "a[a<2] #Select elements from a less than 2\n",
    "#Fancy Indexing\n",
    "b[[1, 0, 1, 0],[0, 1, 2, 0]] #Select elements (1,0),(0,1),(1,2) and (0,0)\n",
    "b[[1, 0, 1, 0]][:,[0,1,2,0]] #Select a subset of the matrix’s rows and columns\n"
   ]
  },
  {
   "cell_type": "markdown",
   "id": "5ff3781b-2bd3-4a05-a5a3-6b2947ef22cb",
   "metadata": {},
   "source": [
    "## Array Manipulation"
   ]
  },
  {
   "cell_type": "code",
   "execution_count": 15,
   "id": "419e3585-d9ea-4215-8fe7-889ea00d2c62",
   "metadata": {
    "scrolled": true
   },
   "outputs": [
    {
     "data": {
      "text/plain": [
       "[array([1]), array([2]), array([3])]"
      ]
     },
     "execution_count": 15,
     "metadata": {},
     "output_type": "execute_result"
    }
   ],
   "source": [
    "#Transposing Array\n",
    "i = np.transpose(b) #Permute array dimensions\n",
    "i.T #Permute array dimensions\n",
    "#Changing Array Shape\n",
    "b.ravel() #Flatten the array\n",
    "g.reshape(3,-2) #Reshape, but don’t change data\n",
    "#Adding/Removing Elements\n",
    "h.resize((2,6)) #Return a new array with shape (2,6)\n",
    "np.append(h,g) #Append items to an array\n",
    "np.insert(a, 1, 5) #Insert items in an array\n",
    "np.delete(a,[1]) #Delete items from an array\n",
    "#Combining Arrays\n",
    "a=np.array([1,2,3])\n",
    "b = np.array([(1.5,2,3), (4,5,6)], dtype = float)\n",
    "c = np.array([[(1.5,2,3), (4,5,6)], [(3,2,1),(4,5,6)]], dtype = float)\n",
    "np.concatenate((a,d),axis=0) #Concatenate arrays\n",
    "np.vstack((a,b)) #Stack arrays vertically (row-wise)\n",
    "np.r_[e,f] #Stack arrays vertically (row-wise)\n",
    "np.hstack((e,f)) #Stack arrays horizontally (column-wise)\n",
    "np.column_stack((a,d)) #Create stacked column-wise arrays\n",
    "np.c_[a,d] #Create stacked column-wise arrays\n",
    "#Splitting Arrays\n",
    "np.hsplit(a,3)"
   ]
  }
 ],
 "metadata": {
  "kernelspec": {
   "display_name": "Python 3 (ipykernel)",
   "language": "python",
   "name": "python3"
  },
  "language_info": {
   "codemirror_mode": {
    "name": "ipython",
    "version": 3
   },
   "file_extension": ".py",
   "mimetype": "text/x-python",
   "name": "python",
   "nbconvert_exporter": "python",
   "pygments_lexer": "ipython3",
   "version": "3.12.4"
  }
 },
 "nbformat": 4,
 "nbformat_minor": 5
}
