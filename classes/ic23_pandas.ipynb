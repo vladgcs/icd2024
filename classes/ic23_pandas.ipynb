{
 "cells": [
  {
   "cell_type": "markdown",
   "id": "545e3632-926b-45dd-ad33-38357c1eb83e",
   "metadata": {},
   "source": [
    "# Pandas Cheat Sheet"
   ]
  },
  {
   "cell_type": "code",
   "execution_count": 1,
   "id": "c73bb9d8-2fc6-427b-8298-331551b61cf6",
   "metadata": {},
   "outputs": [],
   "source": [
    "# Import convention\n",
    "import pandas as pd"
   ]
  },
  {
   "cell_type": "markdown",
   "id": "8e07494b-2bf7-491b-9b46-9b7ae21ccf2d",
   "metadata": {},
   "source": [
    "## Creating DataFrames"
   ]
  },
  {
   "cell_type": "code",
   "execution_count": 2,
   "id": "a906bad1-269d-4737-95b9-c4c266264776",
   "metadata": {},
   "outputs": [],
   "source": [
    "df = pd.DataFrame({\"a\" : [4, 5, 6],\"b\" : [7, 8, 9],\"c\" : [10, 11, 12]},index = [1, 2, 3]) #Specify values for each column\n",
    "df = pd.DataFrame([[4, 7, 10],[5, 8, 11],[6, 9, 12]],index=[1, 2, 3],columns=['a', 'b', 'c']) #Specify values for each row\n",
    "df = pd.DataFrame({\"a\" : [4 ,5, 6],\"b\" : [7, 8, 9],\"c\" : [10, 11, 12]},\\\n",
    "                  index = pd.MultiIndex.from_tuples([(\"d\", 1), (\"d\", 2),\\\n",
    "                                                     (\"e\", 2)], names=['n', 'v'])) #Create DataFrame with a MultiIndex"
   ]
  },
  {
   "cell_type": "markdown",
   "id": "80da49ae-eb13-4c7a-aed6-8ccf885a6a77",
   "metadata": {},
   "source": [
    "## Method Chaining"
   ]
  },
  {
   "cell_type": "code",
   "execution_count": 3,
   "id": "958039a9-34b8-4514-897a-58466afa964c",
   "metadata": {},
   "outputs": [],
   "source": [
    "#Most pandas methods return a DataFrame so that\n",
    "#another pandas method can be applied to the result.\n",
    "#This improves readability of code\n",
    "\n",
    "df = (pd.melt(df).rename(columns={'variable':'var','value':'val'}).query('val >= 200'))"
   ]
  },
  {
   "cell_type": "markdown",
   "id": "ba8aecb7-ba0d-46fa-9374-89cb5d630761",
   "metadata": {},
   "source": [
    "## Reshaping Data -Change layout, sorting, reindexing, renaming"
   ]
  },
  {
   "cell_type": "code",
   "execution_count": null,
   "id": "449faaf9-1100-44ae-b32a-9914b7f5121a",
   "metadata": {},
   "outputs": [],
   "source": [
    "pd.melt(df) #Gather columns into rows.\n",
    "df.pivot(columns='var', values='val') #Spread rows into columns.\n",
    "pd.concat([df1,df2]) #Append rows of DataFrames\n",
    "pd.concat([df1,df2], axis=1) #Append columns of DataFrames\n",
    "df.sort_values('mpg') #Order rows by values of a column (low to high).\n",
    "df.sort_values('mpg', ascending=False) #Order rows by values of a column (high to low).\n",
    "df.rename(columns = {'y':'year'}) #Rename the columns of a DataFrame\n",
    "df.sort_index() #Sort the index of a DataFrame\n",
    "df.reset_index() #Reset index of DataFrame to row numbers, moving index to columns.\n",
    "df.drop(columns=['Length', 'Height']) #Drop columns from DataFrame"
   ]
  },
  {
   "cell_type": "markdown",
   "id": "ea430760-963e-4f4a-b65c-8c5c15a369d0",
   "metadata": {},
   "source": [
    "### Subset Observations - rows"
   ]
  },
  {
   "cell_type": "code",
   "execution_count": null,
   "id": "078d78cf-6dc7-4bff-b85d-6473710b9df4",
   "metadata": {},
   "outputs": [],
   "source": [
    "df[df.Length > 7] #Extract rows that meet logical criteria.\n",
    "df.drop_duplicates() #Remove duplicate rows (only considers columns).\n",
    "df.sample(frac=0.5) #Randomly select fraction of rows.\n",
    "df.sample(n=10) #Randomly select n rows.\n",
    "df.nlargest(n, 'value') #Select and order top n entries.\n",
    "df.nsmallest(n, 'value') #Select and order bottom n entries.\n",
    "df.head(n) #Select first n rows.\n",
    "df.tail(n) #Select last n rows."
   ]
  },
  {
   "cell_type": "markdown",
   "id": "b2004a72-08d8-455e-804b-e6840265675d",
   "metadata": {},
   "source": [
    "### Subset Variables - columns"
   ]
  },
  {
   "cell_type": "code",
   "execution_count": null,
   "id": "0d94f46c-19aa-40f1-8f24-6ef550a2b71a",
   "metadata": {},
   "outputs": [],
   "source": [
    "df[['width', 'length', 'species']] #Select multiple columns with specific names.\n",
    "df['width'] or df.width #Select single column with specific name.\n",
    "df.filter(regex='regex') #Select columns whose name matches regular expression regex."
   ]
  },
  {
   "cell_type": "markdown",
   "id": "a5ebba8f-fe9a-407a-8b03-a27f070ff48b",
   "metadata": {},
   "source": [
    "### Using Query"
   ]
  },
  {
   "cell_type": "code",
   "execution_count": null,
   "id": "4e12128c-d437-49d4-8175-13d3ff253bd0",
   "metadata": {},
   "outputs": [],
   "source": [
    "#query() allows Boolean expressions for filtering rows.\n",
    "df.query('Length > 7')\n",
    "df.query('Length > 7 and Width < 8')\n",
    "df.query('Name.str.startswith(\"abc\")',engine=\"python\")"
   ]
  },
  {
   "cell_type": "markdown",
   "id": "6e43c75d-da8c-48d0-8d61-db09e9396d55",
   "metadata": {},
   "source": [
    "### Subsets - rows and columns"
   ]
  },
  {
   "cell_type": "code",
   "execution_count": null,
   "id": "6e28e991-616e-4027-9ab9-46ecee61a6db",
   "metadata": {},
   "outputs": [],
   "source": [
    "#Use df.loc[] and df.iloc[] to select only rows, only columns or both.\n",
    "#Use df.at[] and df.iat[] to access a single value by row and column.\n",
    "#First index selects rows, second index columns.\n",
    "df.iloc[10:20] #Select rows 10-20.\n",
    "df.iloc[:, [1, 2, 5]] #Select columns in positions 1, 2 and 5 (first column is 0).\n",
    "df.loc[:, 'x2':'x4'] #Select all columns between x2 and x4 (inclusive).\n",
    "df.loc[df['a'] > 10, ['a', 'c']] #Select rows meeting logical condition, and only the specific columns .\n",
    "df.iat[1, 2] Access single value by index\n",
    "df.at[4, 'A'] Access single value by label"
   ]
  },
  {
   "cell_type": "markdown",
   "id": "2e75326e-63ea-4b41-ad1f-737c2da9e0d9",
   "metadata": {},
   "source": [
    "## Summarize Data"
   ]
  },
  {
   "cell_type": "code",
   "execution_count": null,
   "id": "10a99e50-0487-4bbf-b502-c510ddcc2ad7",
   "metadata": {},
   "outputs": [],
   "source": [
    "df['w'].value_counts() #Count number of rows with each unique value of variable\n",
    "len(df) ## of rows in DataFrame.\n",
    "df.shape #Tuple of # of rows, # of columns in DataFrame.\n",
    "df['w'].nunique() ## of distinct values in a column.\n",
    "df.describe() #Basic descriptive and statistics for each column (or GroupBy).\n",
    "#pandas provides a large set of summary functions that operate on\n",
    "#different kinds of pandas objects (DataFrame columns, Series,\n",
    "#GroupBy, Expanding and Rolling (see below)) and produce single\n",
    "#values for each of the groups. When applied to a DataFrame, the\n",
    "#result is returned as a pandas Series for each column. Examples:\n",
    "sum() #Sum values of each object.\n",
    "count() #Count non-NA/null values ofeach object.\n",
    "median() #Median value of each object.\n",
    "quantile([0.25,0.75]) #Quantiles of each object.\n",
    "apply(function) #Apply function to each object.\n",
    "min() #Minimum value in each object.\n",
    "max() #Maximum value in each object.\n",
    "mean() #Mean value of each object.\n",
    "var() #Variance of each object.\n",
    "std() #Standard deviation of each object."
   ]
  },
  {
   "cell_type": "markdown",
   "id": "e10405d9-e67a-4c65-b9fd-c31e7c1aed76",
   "metadata": {},
   "source": [
    "## Handling missing data"
   ]
  },
  {
   "cell_type": "code",
   "execution_count": null,
   "id": "1ddcecc0-b2f4-4266-ae37-9b764438b297",
   "metadata": {},
   "outputs": [],
   "source": [
    "df.dropna() #Drop rows with any column having NA/null data.\n",
    "df.fillna(value) #Replace all NA/null data with value."
   ]
  },
  {
   "cell_type": "markdown",
   "id": "cd5f4df5-1848-4a7c-b192-4e4475d7e615",
   "metadata": {},
   "source": [
    "## Make New Columns"
   ]
  },
  {
   "cell_type": "code",
   "execution_count": null,
   "id": "72f6e63d-a7cb-48b7-99aa-55af28a98cab",
   "metadata": {},
   "outputs": [],
   "source": [
    "df.assign(Area=lambda df: df.Length*df.Height) #Compute and append one or more new columns.\n",
    "df['Volume'] = df.Length*df.Height*df.Depth #Add single column.\n",
    "pd.qcut(df.col, n, labels=False) #Bin column into n buckets.\n",
    "#pandas provides a large set of vector functions that operate on all\n",
    "#columns of a DataFrame or a single selected column (a pandas\n",
    "#Series). These functions produce vectors of values for each of the\n",
    "#columns, or a single Series for the individual Series. Examples:\n",
    "max(axis=1) #Element-wise max.\n",
    "clip(lower=-10,upper=10) #Trim values at input thresholds\n",
    "min(axis=1) #Element-wise min.\n",
    "abs() #Absolute value."
   ]
  },
  {
   "cell_type": "markdown",
   "id": "b5b15c9d-fa71-4e78-89cd-274f7f95c6c9",
   "metadata": {},
   "source": [
    "## Combine Data Sets"
   ]
  },
  {
   "cell_type": "code",
   "execution_count": null,
   "id": "96687baf-025e-474d-abdf-d1e0b66123be",
   "metadata": {},
   "outputs": [],
   "source": [
    "#Satandard joins\n",
    "pd.merge(adf, bdf, how='left', on='x1') #Join matching rows from bdf to adf.\n",
    "pd.merge(adf, bdf, how='right', on='x1') #Join matching rows from adf to bdf.\n",
    "pd.merge(adf, bdf, how='inner', on='x1') #Join data. Retain only rows in both sets.\n",
    "pd.merge(adf, bdf, how='outer', on='x1') #Join data. Retain all values, all rows.\n",
    "\n",
    "#Filtering joins\n",
    "adf[adf.x1.isin(bdf.x1)] #All rows in adf that have a match in bdf.\n",
    "adf[~adf.x1.isin(bdf.x1)] #All rows in adf that do not have a match in bdf.\n",
    "\n",
    "#Set-like Operations\n",
    "pd.merge(ydf, zdf) #Rows that appear in both ydf and zdf (Intersection).\n",
    "pd.merge(ydf, zdf, how='outer') #Rows that appear in either or both ydf and zdf (Union).\n",
    "pd.merge(ydf, zdf, how='outer',\\\n",
    "         \n",
    "indicator=True).query('_merge == \"left_only\"').drop(columns=['_merge'])#Rows that appear in ydf but not zdf (Setdiff)."
   ]
  },
  {
   "cell_type": "markdown",
   "id": "430cc62d-9bf3-4fc8-9ff8-f29a1a969fdc",
   "metadata": {},
   "source": [
    "## Group Data"
   ]
  },
  {
   "cell_type": "code",
   "execution_count": null,
   "id": "657a8069-df8d-4619-8360-484eaf0527e8",
   "metadata": {},
   "outputs": [],
   "source": [
    "df.groupby(by=\"col\") #Return a GroupBy object, grouped by values in column named \"col\".\n",
    "df.groupby(level=\"ind\") #Return a GroupBy object, grouped by values in index level named \"ind\".\n",
    "# All of the summary functions listed above can be applied to a group. Additional GroupBy functions:\n",
    "size() #Size of each group.\n",
    "agg(function) #Aggregate group using function.\n",
    "\n",
    "#The examples below can also be applied to groups. In this case, the\n",
    "#function is applied on a per-group basis, and the returned vectors\n",
    "#are of the length of the original DataFrame.\n",
    "shift(1) #Copy with values shifted by 1.\n",
    "rank(method='dense') #Ranks with no gaps.\n",
    "rank(method='min') #Ranks. Ties get min rank.\n",
    "rank(pct=True) #Ranks rescaled to interval [0, 1].\n",
    "rank(method='first') #Ranks. Ties go to first value.\n",
    "shift(-1) #Copy with values lagged by 1.\n",
    "cumsum() #Cumulative sum.\n",
    "cummax() #Cumulative max.\n",
    "cummin() #Cumulative min.\n",
    "cumprod() #Cumulative product."
   ]
  },
  {
   "cell_type": "markdown",
   "id": "faf2b285-9850-41c8-b59c-37fc2b2d325a",
   "metadata": {},
   "source": [
    "## Window"
   ]
  },
  {
   "cell_type": "code",
   "execution_count": null,
   "id": "47edebd0-6bf7-45dc-ad31-1d8848ba36d6",
   "metadata": {},
   "outputs": [],
   "source": [
    "df.expanding() #Return an Expanding object allowing summary functions to be applied cumulatively.\n",
    "df.rolling(n) #Return a Rolling object allowing summary functions to be applied to windows of length n."
   ]
  },
  {
   "cell_type": "markdown",
   "id": "6b09916e-0072-414d-88dc-3b4c90b28fac",
   "metadata": {},
   "source": [
    "## Ploting"
   ]
  },
  {
   "cell_type": "code",
   "execution_count": null,
   "id": "de6d8791-d992-4a74-8d78-7f312fc4e9b6",
   "metadata": {},
   "outputs": [],
   "source": [
    "df.plot.hist() #Histogram for each column\n",
    "df.plot.scatter(x='w',y='h') #Scatter chart using pairs of points\n"
   ]
  }
 ],
 "metadata": {
  "kernelspec": {
   "display_name": "Python 3 (ipykernel)",
   "language": "python",
   "name": "python3"
  },
  "language_info": {
   "codemirror_mode": {
    "name": "ipython",
    "version": 3
   },
   "file_extension": ".py",
   "mimetype": "text/x-python",
   "name": "python",
   "nbconvert_exporter": "python",
   "pygments_lexer": "ipython3",
   "version": "3.12.4"
  }
 },
 "nbformat": 4,
 "nbformat_minor": 5
}
